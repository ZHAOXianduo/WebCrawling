{
 "cells": [
  {
   "cell_type": "code",
   "execution_count": 1,
   "metadata": {},
   "outputs": [],
   "source": [
    "from selenium import webdriver\n",
    "from selenium.webdriver.chrome.service import Service\n",
    "from selenium.webdriver.common.by import By\n",
    "import time\n",
    "def Lo_call(call):\n",
    "    s = Service(r\"C:\\Users\\NHT\\Desktop\\chromedriver.exe\")\n",
    "    browser = webdriver.Chrome(service=s)\n",
    "    browser.get('https://cx.shouji.360.cn/?number='+str(call))\n",
    "    time.sleep(4)\n",
    "    info = browser.find_element(By.ID,'banner')\n",
    "    location = info.text\n",
    "    return location"
   ]
  },
  {
   "cell_type": "code",
   "execution_count": 2,
   "metadata": {},
   "outputs": [],
   "source": [
    "##导入数据处理库\n",
    "import numpy as np #数据结构库\n",
    "import pandas as pd #数据结构库\n",
    "Online_List = pd.read_excel(r'I:/Articles/线上数据.xlsx')\n",
    "Offline_List = pd.read_excel(r'I:/Articles/线下数据.xlsx')"
   ]
  },
  {
   "cell_type": "code",
   "execution_count": 3,
   "metadata": {},
   "outputs": [
    {
     "data": {
      "text/plain": [
       "['广东', '广州', '移动']"
      ]
     },
     "execution_count": 3,
     "metadata": {},
     "output_type": "execute_result"
    }
   ],
   "source": [
    "Loc = Lo_call(13543405652)\n",
    "Loc.split(' ')"
   ]
  },
  {
   "cell_type": "code",
   "execution_count": 4,
   "metadata": {},
   "outputs": [],
   "source": [
    "Online_List['phone_省份'] = 0\n",
    "Online_List['phone_城市'] = 0\n",
    "Online_List['phone_运营'] = 0"
   ]
  },
  {
   "cell_type": "code",
   "execution_count": null,
   "metadata": {},
   "outputs": [
    {
     "name": "stdout",
     "output_type": "stream",
     "text": [
      "当前进度： 0 / 100\n",
      "13543405652\n",
      "['广东', '广州', '移动']\n",
      "当前进度： 1 / 100\n",
      "13571600775\n"
     ]
    },
    {
     "name": "stderr",
     "output_type": "stream",
     "text": [
      "<ipython-input-5-0935fd80d08f>:12: SettingWithCopyWarning: \n",
      "A value is trying to be set on a copy of a slice from a DataFrame\n",
      "\n",
      "See the caveats in the documentation: https://pandas.pydata.org/pandas-docs/stable/user_guide/indexing.html#returning-a-view-versus-a-copy\n",
      "  Online_List['phone_省份'][i+now] = List_Loc[0]\n",
      "F:\\Download\\lib\\site-packages\\pandas\\core\\indexing.py:670: SettingWithCopyWarning: \n",
      "A value is trying to be set on a copy of a slice from a DataFrame\n",
      "\n",
      "See the caveats in the documentation: https://pandas.pydata.org/pandas-docs/stable/user_guide/indexing.html#returning-a-view-versus-a-copy\n",
      "  iloc._setitem_with_indexer(indexer, value)\n",
      "<ipython-input-5-0935fd80d08f>:13: SettingWithCopyWarning: \n",
      "A value is trying to be set on a copy of a slice from a DataFrame\n",
      "\n",
      "See the caveats in the documentation: https://pandas.pydata.org/pandas-docs/stable/user_guide/indexing.html#returning-a-view-versus-a-copy\n",
      "  Online_List['phone_城市'][i+now] = List_Loc[1]\n",
      "<ipython-input-5-0935fd80d08f>:14: SettingWithCopyWarning: \n",
      "A value is trying to be set on a copy of a slice from a DataFrame\n",
      "\n",
      "See the caveats in the documentation: https://pandas.pydata.org/pandas-docs/stable/user_guide/indexing.html#returning-a-view-versus-a-copy\n",
      "  Online_List['phone_运营'][i+now] = List_Loc[2]\n"
     ]
    },
    {
     "name": "stdout",
     "output_type": "stream",
     "text": [
      "['']\n",
      "当前进度： 2 / 100\n",
      "18056642313\n",
      "['安徽', '池州', '电信']\n",
      "当前进度： 3 / 100\n",
      "15565998629\n",
      "['']\n",
      "当前进度： 4 / 100\n",
      "15866074345\n",
      "['山东', '济宁', '移动']\n",
      "当前进度： 5 / 100\n",
      "13501762845\n",
      "['']\n",
      "当前进度： 6 / 100\n",
      "18256043231\n",
      "['']\n",
      "当前进度： 7 / 100\n",
      "18383027171\n",
      "['四川', '泸州', '移动']\n",
      "当前进度： 8 / 100\n",
      "18876796199\n",
      "['']\n",
      "当前进度： 9 / 100\n",
      "15624583379\n",
      "['山东', '济南', '联通']\n",
      "当前进度： 10 / 100\n",
      "18718500426\n"
     ]
    }
   ],
   "source": [
    "now = 0\n",
    "for i in range(100):\n",
    "    print('当前进度：',i+now,'/','100')\n",
    "    print(Online_List['患者号码'][i+now])\n",
    "    try:\n",
    "        Loc = Lo_call(Online_List['患者号码'][i+now])\n",
    "    except:\n",
    "        pass\n",
    "    List_Loc = Loc.split(' ')\n",
    "    print(List_Loc)\n",
    "    if len(List_Loc) == 3:\n",
    "        Online_List['phone_省份'][i+now] = List_Loc[0]\n",
    "        Online_List['phone_城市'][i+now] = List_Loc[1]\n",
    "        Online_List['phone_运营'][i+now] = List_Loc[2]\n",
    "    if len(List_Loc) == 2:\n",
    "        Online_List['phone_省份'][i+now] = List_Loc[0]\n",
    "        Online_List['phone_城市'][i+now] = List_Loc[0]\n",
    "        Online_List['phone_运营'][i+now] = List_Loc[1]"
   ]
  },
  {
   "cell_type": "code",
   "execution_count": null,
   "metadata": {},
   "outputs": [],
   "source": [
    "Online_List.to_excel(r'C:\\Users\\NHT\\Desktop\\在线数据_phone.xlsx')"
   ]
  },
  {
   "cell_type": "code",
   "execution_count": null,
   "metadata": {},
   "outputs": [],
   "source": [
    "Online_List.isnull().sum()"
   ]
  },
  {
   "cell_type": "code",
   "execution_count": null,
   "metadata": {},
   "outputs": [],
   "source": [
    "# 第203条记录有误 新疆 伊犁 移动"
   ]
  }
 ],
 "metadata": {
  "kernelspec": {
   "display_name": "Python 3",
   "language": "python",
   "name": "python3"
  },
  "language_info": {
   "codemirror_mode": {
    "name": "ipython",
    "version": 3
   },
   "file_extension": ".py",
   "mimetype": "text/x-python",
   "name": "python",
   "nbconvert_exporter": "python",
   "pygments_lexer": "ipython3",
   "version": "3.8.5"
  }
 },
 "nbformat": 4,
 "nbformat_minor": 4
}
