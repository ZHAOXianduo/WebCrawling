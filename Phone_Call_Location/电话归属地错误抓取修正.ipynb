{
 "cells": [
  {
   "cell_type": "code",
   "execution_count": 1,
   "metadata": {},
   "outputs": [],
   "source": [
    "##导入数据处理库\n",
    "import numpy as np #数据结构库\n",
    "import pandas as pd #数据结构库\n",
    "Online_List = pd.read_excel(r'C:\\Users\\NHT\\Desktop\\线上数据_phone 1.1.xlsx')"
   ]
  },
  {
   "cell_type": "code",
   "execution_count": 2,
   "metadata": {},
   "outputs": [],
   "source": [
    "Online_List['check'] = 0\n",
    "Online_List['Repli'] = 0"
   ]
  },
  {
   "cell_type": "code",
   "execution_count": 3,
   "metadata": {},
   "outputs": [
    {
     "ename": "SessionNotCreatedException",
     "evalue": "Message: session not created: This version of ChromeDriver only supports Chrome version 96\nCurrent browser version is 98.0.4758.102 with binary path C:\\Program Files (x86)\\Google\\Chrome\\Application\\chrome.exe\nStacktrace:\nBacktrace:\n\tOrdinal0 [0x00366903+2517251]\n\tOrdinal0 [0x002FF8E1+2095329]\n\tOrdinal0 [0x00202848+1058888]\n\tOrdinal0 [0x00220B9D+1182621]\n\tOrdinal0 [0x0021CA60+1165920]\n\tOrdinal0 [0x0021A2CF+1155791]\n\tOrdinal0 [0x0024AAAF+1354415]\n\tOrdinal0 [0x0024A71A+1353498]\n\tOrdinal0 [0x0024639B+1336219]\n\tOrdinal0 [0x002227A7+1189799]\n\tOrdinal0 [0x00223609+1193481]\n\tGetHandleVerifier [0x004F5904+1577972]\n\tGetHandleVerifier [0x005A0B97+2279047]\n\tGetHandleVerifier [0x003F6D09+534521]\n\tGetHandleVerifier [0x003F5DB9+530601]\n\tOrdinal0 [0x00304FF9+2117625]\n\tOrdinal0 [0x003098A8+2136232]\n\tOrdinal0 [0x003099E2+2136546]\n\tOrdinal0 [0x00313541+2176321]\n\tBaseThreadInitThunk [0x7793FA29+25]\n\tRtlGetAppContainerNamedObjectPath [0x77CE7A9E+286]\n\tRtlGetAppContainerNamedObjectPath [0x77CE7A6E+238]\n",
     "output_type": "error",
     "traceback": [
      "\u001b[1;31m---------------------------------------------------------------------------\u001b[0m",
      "\u001b[1;31mSessionNotCreatedException\u001b[0m                Traceback (most recent call last)",
      "\u001b[1;32m<ipython-input-3-a30d55b5c78b>\u001b[0m in \u001b[0;36m<module>\u001b[1;34m\u001b[0m\n\u001b[0;32m      5\u001b[0m \u001b[1;32mimport\u001b[0m \u001b[0mtime\u001b[0m\u001b[1;33m\u001b[0m\u001b[1;33m\u001b[0m\u001b[0m\n\u001b[0;32m      6\u001b[0m \u001b[0ms\u001b[0m \u001b[1;33m=\u001b[0m \u001b[0mService\u001b[0m\u001b[1;33m(\u001b[0m\u001b[1;34mr\"C:\\Users\\NHT\\Desktop\\chromedriver.exe\"\u001b[0m\u001b[1;33m)\u001b[0m\u001b[1;33m\u001b[0m\u001b[1;33m\u001b[0m\u001b[0m\n\u001b[1;32m----> 7\u001b[1;33m \u001b[0mbrowser\u001b[0m \u001b[1;33m=\u001b[0m \u001b[0mwebdriver\u001b[0m\u001b[1;33m.\u001b[0m\u001b[0mChrome\u001b[0m\u001b[1;33m(\u001b[0m\u001b[0mservice\u001b[0m\u001b[1;33m=\u001b[0m\u001b[0ms\u001b[0m\u001b[1;33m)\u001b[0m\u001b[1;33m\u001b[0m\u001b[1;33m\u001b[0m\u001b[0m\n\u001b[0m\u001b[0;32m      8\u001b[0m \u001b[0mbrowser\u001b[0m\u001b[1;33m.\u001b[0m\u001b[0mget\u001b[0m\u001b[1;33m(\u001b[0m\u001b[1;34m'https://cx.shouji.360.cn/?number='\u001b[0m\u001b[1;33m)\u001b[0m\u001b[1;33m\u001b[0m\u001b[1;33m\u001b[0m\u001b[0m\n\u001b[0;32m      9\u001b[0m \u001b[0mtime\u001b[0m\u001b[1;33m.\u001b[0m\u001b[0msleep\u001b[0m\u001b[1;33m(\u001b[0m\u001b[1;36m5\u001b[0m\u001b[1;33m)\u001b[0m\u001b[1;33m\u001b[0m\u001b[1;33m\u001b[0m\u001b[0m\n",
      "\u001b[1;32mF:\\Download\\lib\\site-packages\\selenium\\webdriver\\chrome\\webdriver.py\u001b[0m in \u001b[0;36m__init__\u001b[1;34m(self, executable_path, port, options, service_args, desired_capabilities, service_log_path, chrome_options, service, keep_alive)\u001b[0m\n\u001b[0;32m     68\u001b[0m             \u001b[0mservice\u001b[0m \u001b[1;33m=\u001b[0m \u001b[0mService\u001b[0m\u001b[1;33m(\u001b[0m\u001b[0mexecutable_path\u001b[0m\u001b[1;33m,\u001b[0m \u001b[0mport\u001b[0m\u001b[1;33m,\u001b[0m \u001b[0mservice_args\u001b[0m\u001b[1;33m,\u001b[0m \u001b[0mservice_log_path\u001b[0m\u001b[1;33m)\u001b[0m\u001b[1;33m\u001b[0m\u001b[1;33m\u001b[0m\u001b[0m\n\u001b[0;32m     69\u001b[0m \u001b[1;33m\u001b[0m\u001b[0m\n\u001b[1;32m---> 70\u001b[1;33m         super(WebDriver, self).__init__(DesiredCapabilities.CHROME['browserName'], \"goog\",\n\u001b[0m\u001b[0;32m     71\u001b[0m                                         \u001b[0mport\u001b[0m\u001b[1;33m,\u001b[0m \u001b[0moptions\u001b[0m\u001b[1;33m,\u001b[0m\u001b[1;33m\u001b[0m\u001b[1;33m\u001b[0m\u001b[0m\n\u001b[0;32m     72\u001b[0m                                         \u001b[0mservice_args\u001b[0m\u001b[1;33m,\u001b[0m \u001b[0mdesired_capabilities\u001b[0m\u001b[1;33m,\u001b[0m\u001b[1;33m\u001b[0m\u001b[1;33m\u001b[0m\u001b[0m\n",
      "\u001b[1;32mF:\\Download\\lib\\site-packages\\selenium\\webdriver\\chromium\\webdriver.py\u001b[0m in \u001b[0;36m__init__\u001b[1;34m(self, browser_name, vendor_prefix, port, options, service_args, desired_capabilities, service_log_path, service, keep_alive)\u001b[0m\n\u001b[0;32m     91\u001b[0m \u001b[1;33m\u001b[0m\u001b[0m\n\u001b[0;32m     92\u001b[0m         \u001b[1;32mtry\u001b[0m\u001b[1;33m:\u001b[0m\u001b[1;33m\u001b[0m\u001b[1;33m\u001b[0m\u001b[0m\n\u001b[1;32m---> 93\u001b[1;33m             RemoteWebDriver.__init__(\n\u001b[0m\u001b[0;32m     94\u001b[0m                 \u001b[0mself\u001b[0m\u001b[1;33m,\u001b[0m\u001b[1;33m\u001b[0m\u001b[1;33m\u001b[0m\u001b[0m\n\u001b[0;32m     95\u001b[0m                 command_executor=ChromiumRemoteConnection(\n",
      "\u001b[1;32mF:\\Download\\lib\\site-packages\\selenium\\webdriver\\remote\\webdriver.py\u001b[0m in \u001b[0;36m__init__\u001b[1;34m(self, command_executor, desired_capabilities, browser_profile, proxy, keep_alive, file_detector, options)\u001b[0m\n\u001b[0;32m    266\u001b[0m         \u001b[0mself\u001b[0m\u001b[1;33m.\u001b[0m\u001b[0mfile_detector\u001b[0m \u001b[1;33m=\u001b[0m \u001b[0mfile_detector\u001b[0m \u001b[1;32mor\u001b[0m \u001b[0mLocalFileDetector\u001b[0m\u001b[1;33m(\u001b[0m\u001b[1;33m)\u001b[0m\u001b[1;33m\u001b[0m\u001b[1;33m\u001b[0m\u001b[0m\n\u001b[0;32m    267\u001b[0m         \u001b[0mself\u001b[0m\u001b[1;33m.\u001b[0m\u001b[0mstart_client\u001b[0m\u001b[1;33m(\u001b[0m\u001b[1;33m)\u001b[0m\u001b[1;33m\u001b[0m\u001b[1;33m\u001b[0m\u001b[0m\n\u001b[1;32m--> 268\u001b[1;33m         \u001b[0mself\u001b[0m\u001b[1;33m.\u001b[0m\u001b[0mstart_session\u001b[0m\u001b[1;33m(\u001b[0m\u001b[0mcapabilities\u001b[0m\u001b[1;33m,\u001b[0m \u001b[0mbrowser_profile\u001b[0m\u001b[1;33m)\u001b[0m\u001b[1;33m\u001b[0m\u001b[1;33m\u001b[0m\u001b[0m\n\u001b[0m\u001b[0;32m    269\u001b[0m \u001b[1;33m\u001b[0m\u001b[0m\n\u001b[0;32m    270\u001b[0m     \u001b[1;32mdef\u001b[0m \u001b[0m__repr__\u001b[0m\u001b[1;33m(\u001b[0m\u001b[0mself\u001b[0m\u001b[1;33m)\u001b[0m\u001b[1;33m:\u001b[0m\u001b[1;33m\u001b[0m\u001b[1;33m\u001b[0m\u001b[0m\n",
      "\u001b[1;32mF:\\Download\\lib\\site-packages\\selenium\\webdriver\\remote\\webdriver.py\u001b[0m in \u001b[0;36mstart_session\u001b[1;34m(self, capabilities, browser_profile)\u001b[0m\n\u001b[0;32m    357\u001b[0m         parameters = {\"capabilities\": w3c_caps,\n\u001b[0;32m    358\u001b[0m                       \"desiredCapabilities\": capabilities}\n\u001b[1;32m--> 359\u001b[1;33m         \u001b[0mresponse\u001b[0m \u001b[1;33m=\u001b[0m \u001b[0mself\u001b[0m\u001b[1;33m.\u001b[0m\u001b[0mexecute\u001b[0m\u001b[1;33m(\u001b[0m\u001b[0mCommand\u001b[0m\u001b[1;33m.\u001b[0m\u001b[0mNEW_SESSION\u001b[0m\u001b[1;33m,\u001b[0m \u001b[0mparameters\u001b[0m\u001b[1;33m)\u001b[0m\u001b[1;33m\u001b[0m\u001b[1;33m\u001b[0m\u001b[0m\n\u001b[0m\u001b[0;32m    360\u001b[0m         \u001b[1;32mif\u001b[0m \u001b[1;34m'sessionId'\u001b[0m \u001b[1;32mnot\u001b[0m \u001b[1;32min\u001b[0m \u001b[0mresponse\u001b[0m\u001b[1;33m:\u001b[0m\u001b[1;33m\u001b[0m\u001b[1;33m\u001b[0m\u001b[0m\n\u001b[0;32m    361\u001b[0m             \u001b[0mresponse\u001b[0m \u001b[1;33m=\u001b[0m \u001b[0mresponse\u001b[0m\u001b[1;33m[\u001b[0m\u001b[1;34m'value'\u001b[0m\u001b[1;33m]\u001b[0m\u001b[1;33m\u001b[0m\u001b[1;33m\u001b[0m\u001b[0m\n",
      "\u001b[1;32mF:\\Download\\lib\\site-packages\\selenium\\webdriver\\remote\\webdriver.py\u001b[0m in \u001b[0;36mexecute\u001b[1;34m(self, driver_command, params)\u001b[0m\n\u001b[0;32m    422\u001b[0m         \u001b[0mresponse\u001b[0m \u001b[1;33m=\u001b[0m \u001b[0mself\u001b[0m\u001b[1;33m.\u001b[0m\u001b[0mcommand_executor\u001b[0m\u001b[1;33m.\u001b[0m\u001b[0mexecute\u001b[0m\u001b[1;33m(\u001b[0m\u001b[0mdriver_command\u001b[0m\u001b[1;33m,\u001b[0m \u001b[0mparams\u001b[0m\u001b[1;33m)\u001b[0m\u001b[1;33m\u001b[0m\u001b[1;33m\u001b[0m\u001b[0m\n\u001b[0;32m    423\u001b[0m         \u001b[1;32mif\u001b[0m \u001b[0mresponse\u001b[0m\u001b[1;33m:\u001b[0m\u001b[1;33m\u001b[0m\u001b[1;33m\u001b[0m\u001b[0m\n\u001b[1;32m--> 424\u001b[1;33m             \u001b[0mself\u001b[0m\u001b[1;33m.\u001b[0m\u001b[0merror_handler\u001b[0m\u001b[1;33m.\u001b[0m\u001b[0mcheck_response\u001b[0m\u001b[1;33m(\u001b[0m\u001b[0mresponse\u001b[0m\u001b[1;33m)\u001b[0m\u001b[1;33m\u001b[0m\u001b[1;33m\u001b[0m\u001b[0m\n\u001b[0m\u001b[0;32m    425\u001b[0m             response['value'] = self._unwrap_value(\n\u001b[0;32m    426\u001b[0m                 response.get('value', None))\n",
      "\u001b[1;32mF:\\Download\\lib\\site-packages\\selenium\\webdriver\\remote\\errorhandler.py\u001b[0m in \u001b[0;36mcheck_response\u001b[1;34m(self, response)\u001b[0m\n\u001b[0;32m    245\u001b[0m                 \u001b[0malert_text\u001b[0m \u001b[1;33m=\u001b[0m \u001b[0mvalue\u001b[0m\u001b[1;33m[\u001b[0m\u001b[1;34m'alert'\u001b[0m\u001b[1;33m]\u001b[0m\u001b[1;33m.\u001b[0m\u001b[0mget\u001b[0m\u001b[1;33m(\u001b[0m\u001b[1;34m'text'\u001b[0m\u001b[1;33m)\u001b[0m\u001b[1;33m\u001b[0m\u001b[1;33m\u001b[0m\u001b[0m\n\u001b[0;32m    246\u001b[0m             \u001b[1;32mraise\u001b[0m \u001b[0mexception_class\u001b[0m\u001b[1;33m(\u001b[0m\u001b[0mmessage\u001b[0m\u001b[1;33m,\u001b[0m \u001b[0mscreen\u001b[0m\u001b[1;33m,\u001b[0m \u001b[0mstacktrace\u001b[0m\u001b[1;33m,\u001b[0m \u001b[0malert_text\u001b[0m\u001b[1;33m)\u001b[0m  \u001b[1;31m# type: ignore[call-arg]  # mypy is not smart enough here\u001b[0m\u001b[1;33m\u001b[0m\u001b[1;33m\u001b[0m\u001b[0m\n\u001b[1;32m--> 247\u001b[1;33m         \u001b[1;32mraise\u001b[0m \u001b[0mexception_class\u001b[0m\u001b[1;33m(\u001b[0m\u001b[0mmessage\u001b[0m\u001b[1;33m,\u001b[0m \u001b[0mscreen\u001b[0m\u001b[1;33m,\u001b[0m \u001b[0mstacktrace\u001b[0m\u001b[1;33m)\u001b[0m\u001b[1;33m\u001b[0m\u001b[1;33m\u001b[0m\u001b[0m\n\u001b[0m\u001b[0;32m    248\u001b[0m \u001b[1;33m\u001b[0m\u001b[0m\n\u001b[0;32m    249\u001b[0m     \u001b[1;32mdef\u001b[0m \u001b[0m_value_or_default\u001b[0m\u001b[1;33m(\u001b[0m\u001b[0mself\u001b[0m\u001b[1;33m,\u001b[0m \u001b[0mobj\u001b[0m\u001b[1;33m:\u001b[0m \u001b[0mMapping\u001b[0m\u001b[1;33m[\u001b[0m\u001b[0m_KT\u001b[0m\u001b[1;33m,\u001b[0m \u001b[0m_VT\u001b[0m\u001b[1;33m]\u001b[0m\u001b[1;33m,\u001b[0m \u001b[0mkey\u001b[0m\u001b[1;33m:\u001b[0m \u001b[0m_KT\u001b[0m\u001b[1;33m,\u001b[0m \u001b[0mdefault\u001b[0m\u001b[1;33m:\u001b[0m \u001b[0m_VT\u001b[0m\u001b[1;33m)\u001b[0m \u001b[1;33m->\u001b[0m \u001b[0m_VT\u001b[0m\u001b[1;33m:\u001b[0m\u001b[1;33m\u001b[0m\u001b[1;33m\u001b[0m\u001b[0m\n",
      "\u001b[1;31mSessionNotCreatedException\u001b[0m: Message: session not created: This version of ChromeDriver only supports Chrome version 96\nCurrent browser version is 98.0.4758.102 with binary path C:\\Program Files (x86)\\Google\\Chrome\\Application\\chrome.exe\nStacktrace:\nBacktrace:\n\tOrdinal0 [0x00366903+2517251]\n\tOrdinal0 [0x002FF8E1+2095329]\n\tOrdinal0 [0x00202848+1058888]\n\tOrdinal0 [0x00220B9D+1182621]\n\tOrdinal0 [0x0021CA60+1165920]\n\tOrdinal0 [0x0021A2CF+1155791]\n\tOrdinal0 [0x0024AAAF+1354415]\n\tOrdinal0 [0x0024A71A+1353498]\n\tOrdinal0 [0x0024639B+1336219]\n\tOrdinal0 [0x002227A7+1189799]\n\tOrdinal0 [0x00223609+1193481]\n\tGetHandleVerifier [0x004F5904+1577972]\n\tGetHandleVerifier [0x005A0B97+2279047]\n\tGetHandleVerifier [0x003F6D09+534521]\n\tGetHandleVerifier [0x003F5DB9+530601]\n\tOrdinal0 [0x00304FF9+2117625]\n\tOrdinal0 [0x003098A8+2136232]\n\tOrdinal0 [0x003099E2+2136546]\n\tOrdinal0 [0x00313541+2176321]\n\tBaseThreadInitThunk [0x7793FA29+25]\n\tRtlGetAppContainerNamedObjectPath [0x77CE7A9E+286]\n\tRtlGetAppContainerNamedObjectPath [0x77CE7A6E+238]\n"
     ]
    }
   ],
   "source": [
    "#  对线下数据进行分析 近两万条\n",
    "from selenium import webdriver\n",
    "from selenium.webdriver.chrome.service import Service\n",
    "from selenium.webdriver.common.by import By\n",
    "import time\n",
    "s = Service(r\"C:\\Users\\NHT\\Desktop\\chromedriver.exe\")\n",
    "browser = webdriver.Chrome(service=s)\n",
    "browser.get('https://cx.shouji.360.cn/?number=')\n",
    "time.sleep(5)\n",
    "now = 0\n",
    "count = 0\n",
    "for n in range(len(Online_List)-1):\n",
    "    i = n+1\n",
    "    print('当前进度：',round((i+now)/len(Online_List),6)*100,'%')\n",
    "    if (str(Online_List['患者号码'][i+now])[0] == '1') and (Online_List['phone_省份'][i+now-1] == Online_List['phone_省份'][i+now]) and (Online_List['phone_城市'][i+now-1] == Online_List['phone_城市'][i+now]) and (Online_List['phone_运营'][i+now-1] == Online_List['phone_运营'][i+now]):\n",
    "        print(Online_List['患者号码'][i+now])\n",
    "        Online_List['Repli'][i+now] = 1\n",
    "        input_ = browser.find_element(By.ID,'number')\n",
    "        input_.send_keys(str(Online_List['患者号码'][i+now]))\n",
    "        button = browser.find_element(By.ID,'smt')\n",
    "        button.click()\n",
    "        time.sleep(1)\n",
    "        info = browser.find_element(By.ID,'banner')\n",
    "        location = info.text\n",
    "        wait = 0\n",
    "        while location == '':\n",
    "            button.click()\n",
    "            wait = wait + 0.5\n",
    "            time.sleep(0.5)\n",
    "            info = browser.find_element(By.ID,'banner')\n",
    "            location = info.text\n",
    "        print('外加等待时间',wait,'秒')\n",
    "        List_Loc = location.split(' ')\n",
    "        print(List_Loc)\n",
    "        if len(List_Loc) == 3:\n",
    "            if Online_List['phone_城市'][i+now] != List_Loc[1]:\n",
    "                count += 1\n",
    "                print('修正！',count)\n",
    "                Online_List['check'][i+now] = 1\n",
    "                Online_List['phone_省份'][i+now] = List_Loc[0]\n",
    "                Online_List['phone_城市'][i+now] = List_Loc[1]\n",
    "                Online_List['phone_运营'][i+now] = List_Loc[2]\n",
    "        if len(List_Loc) == 2:\n",
    "            if Online_List['phone_城市'][i+now] != List_Loc[0]:\n",
    "                count += 1\n",
    "                print('修正！',count)\n",
    "                Online_List['phone_省份'][i+now] = List_Loc[0]\n",
    "                Online_List['phone_城市'][i+now] = List_Loc[0]\n",
    "                Online_List['phone_运营'][i+now] = List_Loc[1]\n",
    "        input_.clear()\n",
    "        print(Online_List['患者号码'][i+now+1])\n",
    "        input_ = browser.find_element(By.ID,'number')\n",
    "        input_.send_keys(str(Online_List['患者号码'][i+now+1]))\n",
    "        button = browser.find_element(By.ID,'smt')\n",
    "        button.click()\n",
    "        time.sleep(1)\n",
    "        info = browser.find_element(By.ID,'banner')\n",
    "        location = info.text\n",
    "        wait = 0\n",
    "        while location == '':\n",
    "            button.click()\n",
    "            wait = wait + 0.5\n",
    "            time.sleep(0.5)\n",
    "            info = browser.find_element(By.ID,'banner')\n",
    "            location = info.text\n",
    "        print('外加等待时间',wait,'秒')\n",
    "        List_Loc = location.split(' ')\n",
    "        print(List_Loc)\n",
    "        if len(List_Loc) == 3:\n",
    "            if Online_List['phone_城市'][i+now+1] != List_Loc[1]:\n",
    "                count += 1\n",
    "                print('修正！',count)\n",
    "                Online_List['phone_省份'][i+now+1] = List_Loc[0]\n",
    "                Online_List['phone_城市'][i+now+1] = List_Loc[1]\n",
    "                Online_List['phone_运营'][i+now+1] = List_Loc[2]\n",
    "        if len(List_Loc) == 2:\n",
    "            if Online_List['phone_城市'][i+now+1] != List_Loc[0]:\n",
    "                count += 1\n",
    "                print('修正！',count)\n",
    "                Online_List['phone_省份'][i+now+1] = List_Loc[0]\n",
    "                Online_List['phone_城市'][i+now+1] = List_Loc[0]\n",
    "                Online_List['phone_运营'][i+now+1] = List_Loc[1]\n",
    "        input_.clear()\n",
    "    else:\n",
    "        pass"
   ]
  },
  {
   "cell_type": "code",
   "execution_count": 11,
   "metadata": {},
   "outputs": [],
   "source": [
    "Online_List.to_excel(r'C:\\Users\\NHT\\Desktop\\线上数据_phone 1.1.xlsx')"
   ]
  },
  {
   "cell_type": "code",
   "execution_count": null,
   "metadata": {},
   "outputs": [],
   "source": []
  }
 ],
 "metadata": {
  "kernelspec": {
   "display_name": "Python 3",
   "language": "python",
   "name": "python3"
  },
  "language_info": {
   "codemirror_mode": {
    "name": "ipython",
    "version": 3
   },
   "file_extension": ".py",
   "mimetype": "text/x-python",
   "name": "python",
   "nbconvert_exporter": "python",
   "pygments_lexer": "ipython3",
   "version": "3.8.5"
  }
 },
 "nbformat": 4,
 "nbformat_minor": 4
}
